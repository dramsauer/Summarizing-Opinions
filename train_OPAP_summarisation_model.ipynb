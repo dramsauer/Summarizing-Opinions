{
 "cells": [
  {
   "cell_type": "markdown",
   "metadata": {},
   "source": [
    "# Experiment: Train PG-BRNN with Polarity Attention weighting\n"
   ]
  },
  {
   "cell_type": "markdown",
   "metadata": {},
   "source": [
    "## Imports"
   ]
  },
  {
   "cell_type": "code",
   "execution_count": 1,
   "metadata": {},
   "outputs": [
    {
     "name": "stdout",
     "output_type": "stream",
     "text": [
      "Requirement already satisfied: torchtext in /opt/conda/lib/python3.7/site-packages (0.7.0)\n",
      "Requirement already satisfied: nltk in /opt/conda/lib/python3.7/site-packages (3.5)\n",
      "Requirement already satisfied: opencv-python in /opt/conda/lib/python3.7/site-packages (4.4.0.44)\n",
      "Requirement already satisfied: transformers==3.1.0 in /opt/conda/lib/python3.7/site-packages (3.1.0)\n",
      "Requirement already satisfied: torch in /opt/conda/lib/python3.7/site-packages (from torchtext) (1.6.0)\n",
      "Requirement already satisfied: requests in /opt/conda/lib/python3.7/site-packages (from torchtext) (2.22.0)\n",
      "Requirement already satisfied: numpy in /opt/conda/lib/python3.7/site-packages (from torchtext) (1.18.1)\n",
      "Requirement already satisfied: sentencepiece in /opt/conda/lib/python3.7/site-packages (from torchtext) (0.1.91)\n",
      "Requirement already satisfied: tqdm in /opt/conda/lib/python3.7/site-packages (from torchtext) (4.41.1)\n",
      "Requirement already satisfied: click in /opt/conda/lib/python3.7/site-packages (from nltk) (7.0)\n",
      "Requirement already satisfied: regex in /opt/conda/lib/python3.7/site-packages (from nltk) (2020.7.14)\n",
      "Requirement already satisfied: joblib in /opt/conda/lib/python3.7/site-packages (from nltk) (0.14.1)\n",
      "Requirement already satisfied: tokenizers==0.8.1.rc2 in /opt/conda/lib/python3.7/site-packages (from transformers==3.1.0) (0.8.1rc2)\n",
      "Requirement already satisfied: sacremoses in /opt/conda/lib/python3.7/site-packages (from transformers==3.1.0) (0.0.43)\n",
      "Requirement already satisfied: filelock in /opt/conda/lib/python3.7/site-packages (from transformers==3.1.0) (3.0.12)\n",
      "Requirement already satisfied: packaging in /opt/conda/lib/python3.7/site-packages (from transformers==3.1.0) (20.1)\n",
      "Requirement already satisfied: future in /opt/conda/lib/python3.7/site-packages (from torch->torchtext) (0.18.2)\n",
      "Requirement already satisfied: idna<2.9,>=2.5 in /opt/conda/lib/python3.7/site-packages (from requests->torchtext) (2.8)\n",
      "Requirement already satisfied: urllib3!=1.25.0,!=1.25.1,<1.26,>=1.21.1 in /opt/conda/lib/python3.7/site-packages (from requests->torchtext) (1.25.7)\n",
      "Requirement already satisfied: chardet<3.1.0,>=3.0.2 in /opt/conda/lib/python3.7/site-packages (from requests->torchtext) (3.0.4)\n",
      "Requirement already satisfied: certifi>=2017.4.17 in /opt/conda/lib/python3.7/site-packages (from requests->torchtext) (2019.11.28)\n",
      "Requirement already satisfied: six in /opt/conda/lib/python3.7/site-packages (from sacremoses->transformers==3.1.0) (1.14.0)\n",
      "Requirement already satisfied: pyparsing>=2.0.2 in /opt/conda/lib/python3.7/site-packages (from packaging->transformers==3.1.0) (2.4.6)\n"
     ]
    }
   ],
   "source": [
    "!pip install torchtext nltk opencv-python transformers==3.1.0"
   ]
  },
  {
   "cell_type": "markdown",
   "metadata": {},
   "source": [
    "## Train the Model\n",
    "\n"
   ]
  },
  {
   "cell_type": "code",
   "execution_count": null,
   "metadata": {},
   "outputs": [
    {
     "name": "stdout",
     "output_type": "stream",
     "text": [
      "2020-10-24 10:42:48.894097: W tensorflow/stream_executor/platform/default/dso_loader.cc:55] Could not load dynamic library 'libnvinfer.so.6'; dlerror: libnvinfer.so.6: cannot open shared object file: No such file or directory; LD_LIBRARY_PATH: /usr/local/nvidia/lib:/usr/local/nvidia/lib64\n",
      "2020-10-24 10:42:48.894169: W tensorflow/stream_executor/platform/default/dso_loader.cc:55] Could not load dynamic library 'libnvinfer_plugin.so.6'; dlerror: libnvinfer_plugin.so.6: cannot open shared object file: No such file or directory; LD_LIBRARY_PATH: /usr/local/nvidia/lib:/usr/local/nvidia/lib64\n",
      "2020-10-24 10:42:48.894179: W tensorflow/compiler/tf2tensorrt/utils/py_utils.cc:30] Cannot dlopen some TensorRT libraries. If you would like to use Nvidia GPU with TensorRT, please make sure the missing libraries mentioned above are installed properly.\n",
      "/opt/conda/lib/python3.7/site-packages/torchtext/data/field.py:150: UserWarning: Field class will be retired in the 0.8.0 release and moved to torchtext.legacy. Please see 0.7.0 release notes for further information.\n",
      "  warnings.warn('{} class will be retired in the 0.8.0 release and moved to torchtext.legacy. Please see 0.7.0 release notes for further information.'.format(self.__class__.__name__), UserWarning)\n",
      "[2020-10-24 10:42:55,640 INFO]  * vocabulary size. source = 50004; target = 50004\n",
      "[2020-10-24 10:42:55,640 INFO] Building model...\n",
      "[2020-10-24 10:43:01,431 INFO] NMTModel(\n",
      "  (encoder): RNNEncoder(\n",
      "    (embeddings): Embeddings(\n",
      "      (make_embedding): Sequential(\n",
      "        (emb_luts): Elementwise(\n",
      "          (0): Embedding(50004, 128, padding_idx=1)\n",
      "        )\n",
      "      )\n",
      "    )\n",
      "    (rnn): LSTM(128, 256, bidirectional=True)\n",
      "    (sent_rnn): LSTM(512, 256, bidirectional=True)\n",
      "    (bridge): ModuleList(\n",
      "      (0): Linear(in_features=256, out_features=256, bias=True)\n",
      "      (1): Linear(in_features=256, out_features=256, bias=True)\n",
      "    )\n",
      "  )\n",
      "  (decoder): InputFeedRNNDecoder(\n",
      "    (embeddings): Embeddings(\n",
      "      (make_embedding): Sequential(\n",
      "        (emb_luts): Elementwise(\n",
      "          (0): Embedding(50004, 128, padding_idx=1)\n",
      "        )\n",
      "      )\n",
      "    )\n",
      "    (dropout): Dropout(p=0.0, inplace=False)\n",
      "    (rnn): StackedLSTM(\n",
      "      (dropout): Dropout(p=0.0, inplace=False)\n",
      "      (layers): ModuleList(\n",
      "        (0): LSTMCell(640, 512)\n",
      "      )\n",
      "    )\n",
      "    (attn): GlobalAttention(\n",
      "      (linear_context): Linear(in_features=512, out_features=512, bias=False)\n",
      "      (linear_query): Linear(in_features=512, out_features=512, bias=True)\n",
      "      (v): Linear(in_features=512, out_features=1, bias=False)\n",
      "      (linear_out): Linear(in_features=1024, out_features=512, bias=True)\n",
      "    )\n",
      "    (mmr_W): Linear(in_features=512, out_features=512, bias=False)\n",
      "  )\n",
      "  (generator): CopyGenerator(\n",
      "    (linear): Linear(in_features=512, out_features=50004, bias=True)\n",
      "    (linear_copy): Linear(in_features=512, out_features=1, bias=True)\n",
      "    (softmax): Softmax(dim=1)\n",
      "    (sigmoid): Sigmoid()\n",
      "  )\n",
      ")\n",
      "[2020-10-24 10:43:01,432 INFO] encoder: 8899584\n",
      "[2020-10-24 10:43:01,432 INFO] decoder: 35728725\n",
      "[2020-10-24 10:43:01,432 INFO] * number of parameters: 44628309\n",
      "[2020-10-24 10:43:01,435 INFO] Start training...\n",
      "/opt/conda/lib/python3.7/site-packages/torchtext/data/iterator.py:48: UserWarning: OrderedIterator class will be retired in the 0.8.0 release and moved to torchtext.legacy. Please see 0.7.0 release notes for further information.\n",
      "  warnings.warn('{} class will be retired in the 0.8.0 release and moved to torchtext.legacy. Please see 0.7.0 release notes for further information.'.format(self.__class__.__name__), UserWarning)\n",
      "/opt/conda/lib/python3.7/site-packages/torchtext/data/batch.py:23: UserWarning: Batch class will be retired in the 0.8.0 release and moved to torchtext.legacy. Please see 0.7.0 release notes for further information.\n",
      "  warnings.warn('{} class will be retired in the 0.8.0 release and moved to torchtext.legacy. Please see 0.7.0 release notes for further information.'.format(self.__class__.__name__), UserWarning)\n",
      "/opt/conda/lib/python3.7/site-packages/torchtext/data/field.py:356: UserWarning: To copy construct from a tensor, it is recommended to use sourceTensor.clone().detach() or sourceTensor.clone().detach().requires_grad_(True), rather than torch.tensor(sourceTensor).\n",
      "  var = torch.tensor(arr, dtype=self.dtype, device=device)\n",
      "[2020-10-24 10:57:30,418 INFO] Step 50/20000; acc:   5.50; ppl: 1609.08; xent: 7.38; lr: 0.15000; 275/125 tok/s;    866 sec\n",
      "[2020-10-24 11:12:21,585 INFO] Step 100/20000; acc:   5.52; ppl: 1091.15; xent: 6.99; lr: 0.15000; 288/135 tok/s;   1757 sec\n",
      "[2020-10-24 11:12:21,587 INFO] Saving checkpoint output/summarisation/model_newser_polarity_without_mmr/Okt17__step_100.pt\n",
      "[2020-10-24 11:27:26,508 INFO] Step 150/20000; acc:   4.67; ppl: 1027.99; xent: 6.94; lr: 0.15000; 295/159 tok/s;   2662 sec\n",
      "[2020-10-24 11:41:53,886 INFO] Step 200/20000; acc:   4.78; ppl: 922.61; xent: 6.83; lr: 0.15000; 286/153 tok/s;   3529 sec\n",
      "[2020-10-24 11:41:53,886 INFO] Saving checkpoint output/summarisation/model_newser_polarity_without_mmr/Okt17__step_200.pt\n",
      "[2020-10-24 11:55:55,029 INFO] Step 250/20000; acc:   5.00; ppl: 995.14; xent: 6.90; lr: 0.15000; 253/157 tok/s;   4370 sec\n",
      "[2020-10-24 12:08:54,983 INFO] Step 300/20000; acc:   5.45; ppl: 598.44; xent: 6.39; lr: 0.15000; 317/147 tok/s;   5150 sec\n",
      "[2020-10-24 12:08:54,985 INFO] Saving checkpoint output/summarisation/model_newser_polarity_without_mmr/Okt17__step_300.pt\n",
      "[2020-10-24 12:22:45,992 INFO] Step 350/20000; acc:   5.56; ppl: 699.26; xent: 6.55; lr: 0.15000; 305/121 tok/s;   5981 sec\n",
      "[2020-10-24 12:36:34,194 INFO] Step 400/20000; acc:   6.71; ppl: 722.49; xent: 6.58; lr: 0.15000; 313/167 tok/s;   6810 sec\n",
      "[2020-10-24 12:36:34,197 INFO] Saving checkpoint output/summarisation/model_newser_polarity_without_mmr/Okt17__step_400.pt\n",
      "[2020-10-24 12:49:57,257 INFO] Step 450/20000; acc:   5.82; ppl: 638.19; xent: 6.46; lr: 0.15000; 325/148 tok/s;   7613 sec\n"
     ]
    }
   ],
   "source": [
    "%%time\n",
    "!CUDA_VISIBLE_DEVICES=2,3,0,1 python code/OPAP/train.py \\\n",
    "    -save_model output/summarisation/model_newser_polarity_without_mmr/Okt17_ \\\n",
    "    -data data/multi_news/final_preprocessed/final \\\n",
    "    -copy_attn -accum_count 5\\\n",
    "    -global_attention mlp \\\n",
    "    -word_vec_size 128 \\\n",
    "    -rnn_size 512  -layers 1 \\\n",
    "    -encoder_type brnn \\\n",
    "    -train_steps 20000 \\\n",
    "    -max_grad_norm 4 \\\n",
    "    -dropout 0. \\\n",
    "    -batch_size 2 \\\n",
    "    -optim adagrad \\\n",
    "    -learning_rate 0.15 \\\n",
    "    -adagrad_accumulator_init 0.1 \\\n",
    "    -reuse_copy_attn \\\n",
    "    -copy_loss_by_seqlength \\\n",
    "    -bridge \\\n",
    "    -seed 777 \\\n",
    "    -world_size 1  \\\n",
    "    -gpu_ranks 0 1 2 3 \\\n",
    "    -save_checkpoint_steps 100"
   ]
  },
  {
   "cell_type": "code",
   "execution_count": null,
   "metadata": {},
   "outputs": [],
   "source": [
    "print('mp')"
   ]
  }
 ],
 "metadata": {
  "kernelspec": {
   "display_name": "Python 3",
   "language": "python",
   "name": "python3"
  },
  "language_info": {
   "codemirror_mode": {
    "name": "ipython",
    "version": 3
   },
   "file_extension": ".py",
   "mimetype": "text/x-python",
   "name": "python",
   "nbconvert_exporter": "python",
   "pygments_lexer": "ipython3",
   "version": "3.7.3"
  }
 },
 "nbformat": 4,
 "nbformat_minor": 4
}
