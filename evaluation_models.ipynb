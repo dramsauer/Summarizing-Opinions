{
 "cells": [
  {
   "cell_type": "markdown",
   "metadata": {},
   "source": [
    "# Multi-News: Reproducing HiMAP"
   ]
  },
  {
   "cell_type": "code",
   "execution_count": 1,
   "metadata": {},
   "outputs": [
    {
     "name": "stdout",
     "output_type": "stream",
     "text": [
      "Preparing documents... 0 line(s) ignored\n",
      "Running ROUGE...\n",
      "---------------------------------------------\n",
      "1 ROUGE-1 Average_R: 0.50733 (95%-conf.int. 0.50438 - 0.51047)\n",
      "1 ROUGE-1 Average_P: 0.39639 (95%-conf.int. 0.39333 - 0.39972)\n",
      "1 ROUGE-1 Average_F: 0.42680 (95%-conf.int. 0.42437 - 0.42940)\n",
      "---------------------------------------------\n",
      "1 ROUGE-2 Average_R: 0.17423 (95%-conf.int. 0.17139 - 0.17722)\n",
      "1 ROUGE-2 Average_P: 0.13808 (95%-conf.int. 0.13571 - 0.14078)\n",
      "1 ROUGE-2 Average_F: 0.14760 (95%-conf.int. 0.14527 - 0.15036)\n",
      "---------------------------------------------\n",
      "1 ROUGE-L Average_R: 0.45489 (95%-conf.int. 0.45203 - 0.45798)\n",
      "1 ROUGE-L Average_P: 0.35589 (95%-conf.int. 0.35283 - 0.35911)\n",
      "1 ROUGE-L Average_F: 0.38306 (95%-conf.int. 0.38058 - 0.38568)\n",
      "\n",
      "Elapsed time: 437.811 seconds\n"
     ]
    }
   ],
   "source": [
    "!files2rouge newser_himap_Okt17__step_20000.output test.txt.tgt.tokenized.fixed.cleaned.final.truncated.txt"
   ]
  },
  {
   "cell_type": "markdown",
   "metadata": {},
   "source": [
    "# Multi-News: without MMR and Polarity"
   ]
  },
  {
   "cell_type": "code",
   "execution_count": 1,
   "metadata": {},
   "outputs": [
    {
     "name": "stdout",
     "output_type": "stream",
     "text": [
      "Preparing documents... 0 line(s) ignored\n",
      "Running ROUGE...\n",
      "---------------------------------------------\n",
      "1 ROUGE-1 Average_R: 0.49839 (95%-conf.int. 0.49540 - 0.50123)\n",
      "1 ROUGE-1 Average_P: 0.41355 (95%-conf.int. 0.41067 - 0.41661)\n",
      "1 ROUGE-1 Average_F: 0.43709 (95%-conf.int. 0.43465 - 0.43944)\n",
      "---------------------------------------------\n",
      "1 ROUGE-2 Average_R: 0.17043 (95%-conf.int. 0.16782 - 0.17318)\n",
      "1 ROUGE-2 Average_P: 0.14321 (95%-conf.int. 0.14084 - 0.14601)\n",
      "1 ROUGE-2 Average_F: 0.15040 (95%-conf.int. 0.14809 - 0.15288)\n",
      "---------------------------------------------\n",
      "1 ROUGE-L Average_R: 0.44671 (95%-conf.int. 0.44380 - 0.44940)\n",
      "1 ROUGE-L Average_P: 0.37079 (95%-conf.int. 0.36804 - 0.37374)\n",
      "1 ROUGE-L Average_F: 0.39191 (95%-conf.int. 0.38946 - 0.39424)\n",
      "\n",
      "Elapsed time: 455.460 seconds\n"
     ]
    }
   ],
   "source": [
    "!files2rouge newser_without_mmr_polarity_Okt17__step_20000.output test.txt.tgt.tokenized.fixed.cleaned.final.truncated.txt"
   ]
  },
  {
   "cell_type": "markdown",
   "metadata": {},
   "source": [
    "# Multi-News: Polarity (OPAP)"
   ]
  },
  {
   "cell_type": "code",
   "execution_count": 1,
   "metadata": {},
   "outputs": [
    {
     "name": "stdout",
     "output_type": "stream",
     "text": [
      "Preparing documents... 0 line(s) ignored\n",
      "Running ROUGE...\n",
      "---------------------------------------------\n",
      "1 ROUGE-1 Average_R: 0.49590 (95%-conf.int. 0.49295 - 0.49890)\n",
      "1 ROUGE-1 Average_P: 0.41951 (95%-conf.int. 0.41652 - 0.42278)\n",
      "1 ROUGE-1 Average_F: 0.43847 (95%-conf.int. 0.43629 - 0.44102)\n",
      "---------------------------------------------\n",
      "1 ROUGE-2 Average_R: 0.16883 (95%-conf.int. 0.16616 - 0.17163)\n",
      "1 ROUGE-2 Average_P: 0.14539 (95%-conf.int. 0.14302 - 0.14814)\n",
      "1 ROUGE-2 Average_F: 0.15072 (95%-conf.int. 0.14831 - 0.15331)\n",
      "---------------------------------------------\n",
      "1 ROUGE-L Average_R: 0.44641 (95%-conf.int. 0.44348 - 0.44946)\n",
      "1 ROUGE-L Average_P: 0.37773 (95%-conf.int. 0.37485 - 0.38084)\n",
      "1 ROUGE-L Average_F: 0.39482 (95%-conf.int. 0.39260 - 0.39729)\n",
      "\n",
      "Elapsed time: 518.476 seconds\n"
     ]
    }
   ],
   "source": [
    "!files2rouge newser_polarity_without_mmr_Okt17__step_20000.output test.txt.tgt.tokenized.fixed.cleaned.final.truncated.txt"
   ]
  },
  {
   "cell_type": "markdown",
   "metadata": {},
   "source": [
    "# Multi-News: MMR and Polarity (OPAP+HiMAP)"
   ]
  },
  {
   "cell_type": "code",
   "execution_count": 1,
   "metadata": {},
   "outputs": [
    {
     "name": "stdout",
     "output_type": "stream",
     "text": [
      "Preparing documents... 0 line(s) ignored\n",
      "Running ROUGE...\n",
      "---------------------------------------------\n",
      "1 ROUGE-1 Average_R: 0.50294 (95%-conf.int. 0.49987 - 0.50594)\n",
      "1 ROUGE-1 Average_P: 0.40924 (95%-conf.int. 0.40633 - 0.41227)\n",
      "1 ROUGE-1 Average_F: 0.43681 (95%-conf.int. 0.43459 - 0.43903)\n",
      "---------------------------------------------\n",
      "1 ROUGE-2 Average_R: 0.17232 (95%-conf.int. 0.16948 - 0.17511)\n",
      "1 ROUGE-2 Average_P: 0.14199 (95%-conf.int. 0.13964 - 0.14466)\n",
      "1 ROUGE-2 Average_F: 0.15060 (95%-conf.int. 0.14824 - 0.15309)\n",
      "---------------------------------------------\n",
      "1 ROUGE-L Average_R: 0.45227 (95%-conf.int. 0.44934 - 0.45529)\n",
      "1 ROUGE-L Average_P: 0.36806 (95%-conf.int. 0.36526 - 0.37095)\n",
      "1 ROUGE-L Average_F: 0.39288 (95%-conf.int. 0.39067 - 0.39523)\n",
      "\n",
      "Elapsed time: 476.002 seconds\n"
     ]
    }
   ],
   "source": [
    "!files2rouge newser_polarity_Okt17_19900.output test.txt.tgt.tokenized.fixed.cleaned.final.truncated.txt"
   ]
  }
 ],
 "metadata": {
  "kernelspec": {
   "display_name": "Python 3",
   "language": "python",
   "name": "python3"
  },
  "language_info": {
   "codemirror_mode": {
    "name": "ipython",
    "version": 3
   },
   "file_extension": ".py",
   "mimetype": "text/x-python",
   "name": "python",
   "nbconvert_exporter": "python",
   "pygments_lexer": "ipython3",
   "version": "3.7.3"
  }
 },
 "nbformat": 4,
 "nbformat_minor": 4
}
