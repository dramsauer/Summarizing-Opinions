{
 "cells": [
  {
   "cell_type": "markdown",
   "metadata": {},
   "source": [
    "# Multi-News: Running original HiMAP output"
   ]
  },
  {
   "cell_type": "code",
   "execution_count": 1,
   "metadata": {},
   "outputs": [
    {
     "name": "stdout",
     "output_type": "stream",
     "text": [
      "Preparing documents... 0 line(s) ignored\n",
      "Running ROUGE...\n",
      "---------------------------------------------\n",
      "1 ROUGE-1 Average_R: 0.52831 (95%-conf.int. 0.52531 - 0.53116)\n",
      "1 ROUGE-1 Average_P: 0.41212 (95%-conf.int. 0.40909 - 0.41532)\n",
      "1 ROUGE-1 Average_F: 0.44752 (95%-conf.int. 0.44502 - 0.44990)\n",
      "---------------------------------------------\n",
      "1 ROUGE-2 Average_R: 0.18895 (95%-conf.int. 0.18619 - 0.19197)\n",
      "1 ROUGE-2 Average_P: 0.15068 (95%-conf.int. 0.14807 - 0.15374)\n",
      "1 ROUGE-2 Average_F: 0.16189 (95%-conf.int. 0.15927 - 0.16472)\n",
      "---------------------------------------------\n",
      "1 ROUGE-L Average_R: 0.47678 (95%-conf.int. 0.47381 - 0.47959)\n",
      "1 ROUGE-L Average_P: 0.37206 (95%-conf.int. 0.36927 - 0.37496)\n",
      "1 ROUGE-L Average_F: 0.40398 (95%-conf.int. 0.40154 - 0.40642)\n",
      "\n",
      "Elapsed time: 454.451 seconds\n"
     ]
    }
   ],
   "source": [
    "!files2rouge baselines/hi_map.txt test.txt.tgt.tokenized.fixed.cleaned.final.truncated.txt"
   ]
  },
  {
   "cell_type": "code",
   "execution_count": 3,
   "metadata": {},
   "outputs": [
    {
     "name": "stdout",
     "output_type": "stream",
     "text": [
      "Preparing documents... 0 line(s) ignored\n",
      "Running ROUGE...\n",
      "---------------------------------------------\n",
      "1 ROUGE-1 Average_R: 0.52853 (95%-conf.int. 0.52551 - 0.53142)\n",
      "1 ROUGE-1 Average_P: 0.41193 (95%-conf.int. 0.40892 - 0.41513)\n",
      "1 ROUGE-1 Average_F: 0.44735 (95%-conf.int. 0.44486 - 0.44972)\n",
      "---------------------------------------------\n",
      "1 ROUGE-2 Average_R: 0.18906 (95%-conf.int. 0.18627 - 0.19211)\n",
      "1 ROUGE-2 Average_P: 0.15064 (95%-conf.int. 0.14806 - 0.15368)\n",
      "1 ROUGE-2 Average_F: 0.16187 (95%-conf.int. 0.15922 - 0.16471)\n",
      "---------------------------------------------\n",
      "1 ROUGE-L Average_R: 0.47701 (95%-conf.int. 0.47403 - 0.47986)\n",
      "1 ROUGE-L Average_P: 0.37189 (95%-conf.int. 0.36910 - 0.37482)\n",
      "1 ROUGE-L Average_F: 0.40384 (95%-conf.int. 0.40144 - 0.40624)\n",
      "\n",
      "Elapsed time: 389.542 seconds\n"
     ]
    }
   ],
   "source": [
    "!files2rouge baselines/hi_map.txt baselines/gold.txt"
   ]
  },
  {
   "cell_type": "markdown",
   "metadata": {},
   "source": [
    "# Multi-News: Transformer"
   ]
  },
  {
   "cell_type": "code",
   "execution_count": 1,
   "metadata": {
    "scrolled": true
   },
   "outputs": [
    {
     "name": "stdout",
     "output_type": "stream",
     "text": [
      "Preparing documents... 0 line(s) ignored\n",
      "Running ROUGE...\n",
      "---------------------------------------------\n",
      "1 ROUGE-1 Average_R: 0.50561 (95%-conf.int. 0.50269 - 0.50830)\n",
      "1 ROUGE-1 Average_P: 0.42129 (95%-conf.int. 0.41876 - 0.42385)\n",
      "1 ROUGE-1 Average_F: 0.44789 (95%-conf.int. 0.44573 - 0.45005)\n",
      "---------------------------------------------\n",
      "1 ROUGE-2 Average_R: 0.17080 (95%-conf.int. 0.16828 - 0.17332)\n",
      "1 ROUGE-2 Average_P: 0.14412 (95%-conf.int. 0.14196 - 0.14652)\n",
      "1 ROUGE-2 Average_F: 0.15229 (95%-conf.int. 0.15007 - 0.15461)\n",
      "---------------------------------------------\n",
      "1 ROUGE-L Average_R: 0.45658 (95%-conf.int. 0.45377 - 0.45918)\n",
      "1 ROUGE-L Average_P: 0.38035 (95%-conf.int. 0.37792 - 0.38280)\n",
      "1 ROUGE-L Average_F: 0.40445 (95%-conf.int. 0.40225 - 0.40653)\n",
      "\n",
      "Elapsed time: 422.860 seconds\n"
     ]
    }
   ],
   "source": [
    "!files2rouge baselines/transformer.txt test.txt.tgt.tokenized.fixed.cleaned.final.truncated.txt"
   ]
  },
  {
   "cell_type": "markdown",
   "metadata": {},
   "source": [
    "# Multi-News: PGN BRNN"
   ]
  },
  {
   "cell_type": "code",
   "execution_count": 2,
   "metadata": {
    "scrolled": true
   },
   "outputs": [
    {
     "name": "stdout",
     "output_type": "stream",
     "text": [
      "Preparing documents... 0 line(s) ignored\n",
      "Running ROUGE...\n",
      "---------------------------------------------\n",
      "1 ROUGE-1 Average_R: 0.50133 (95%-conf.int. 0.49818 - 0.50409)\n",
      "1 ROUGE-1 Average_P: 0.41486 (95%-conf.int. 0.41218 - 0.41790)\n",
      "1 ROUGE-1 Average_F: 0.44095 (95%-conf.int. 0.43861 - 0.44318)\n",
      "---------------------------------------------\n",
      "1 ROUGE-2 Average_R: 0.17434 (95%-conf.int. 0.17142 - 0.17734)\n",
      "1 ROUGE-2 Average_P: 0.14626 (95%-conf.int. 0.14373 - 0.14897)\n",
      "1 ROUGE-2 Average_F: 0.15446 (95%-conf.int. 0.15197 - 0.15717)\n",
      "---------------------------------------------\n",
      "1 ROUGE-L Average_R: 0.45257 (95%-conf.int. 0.44954 - 0.45540)\n",
      "1 ROUGE-L Average_P: 0.37437 (95%-conf.int. 0.37183 - 0.37719)\n",
      "1 ROUGE-L Average_F: 0.39801 (95%-conf.int. 0.39570 - 0.40030)\n",
      "\n",
      "Elapsed time: 739.334 seconds\n"
     ]
    }
   ],
   "source": [
    "!files2rouge baselines/brnn.txt test.txt.tgt.tokenized.fixed.cleaned.final.truncated.txt"
   ]
  },
  {
   "cell_type": "markdown",
   "metadata": {},
   "source": [
    "# Multi-News: TextRank"
   ]
  },
  {
   "cell_type": "code",
   "execution_count": 6,
   "metadata": {},
   "outputs": [
    {
     "name": "stdout",
     "output_type": "stream",
     "text": [
      "Preparing documents... 0 line(s) ignored\n",
      "Running ROUGE...\n",
      "---------------------------------------------\n",
      "1 ROUGE-1 Average_R: 0.36991 (95%-conf.int. 0.36759 - 0.37226)\n",
      "1 ROUGE-1 Average_P: 0.49988 (95%-conf.int. 0.49731 - 0.50280)\n",
      "1 ROUGE-1 Average_F: 0.41514 (95%-conf.int. 0.41324 - 0.41713)\n",
      "---------------------------------------------\n",
      "1 ROUGE-2 Average_R: 0.12130 (95%-conf.int. 0.11969 - 0.12307)\n",
      "1 ROUGE-2 Average_P: 0.16804 (95%-conf.int. 0.16572 - 0.17084)\n",
      "1 ROUGE-2 Average_F: 0.13752 (95%-conf.int. 0.13577 - 0.13961)\n",
      "---------------------------------------------\n",
      "1 ROUGE-L Average_R: 0.33369 (95%-conf.int. 0.33148 - 0.33598)\n",
      "1 ROUGE-L Average_P: 0.45114 (95%-conf.int. 0.44870 - 0.45392)\n",
      "1 ROUGE-L Average_F: 0.37459 (95%-conf.int. 0.37265 - 0.37659)\n",
      "\n",
      "Elapsed time: 511.028 seconds\n"
     ]
    }
   ],
   "source": [
    "!files2rouge baselines/textrank_truncated.txt test.txt.tgt.tokenized.fixed.cleaned.final.truncated.txt"
   ]
  },
  {
   "cell_type": "markdown",
   "metadata": {},
   "source": [
    "# Multi-News: LexRank"
   ]
  },
  {
   "cell_type": "code",
   "execution_count": 7,
   "metadata": {},
   "outputs": [
    {
     "name": "stdout",
     "output_type": "stream",
     "text": [
      "Preparing documents... 0 line(s) ignored\n",
      "Running ROUGE...\n",
      "---------------------------------------------\n",
      "1 ROUGE-1 Average_R: 0.36248 (95%-conf.int. 0.36021 - 0.36484)\n",
      "1 ROUGE-1 Average_P: 0.50788 (95%-conf.int. 0.50521 - 0.51081)\n",
      "1 ROUGE-1 Average_F: 0.41337 (95%-conf.int. 0.41140 - 0.41551)\n",
      "---------------------------------------------\n",
      "1 ROUGE-2 Average_R: 0.11904 (95%-conf.int. 0.11740 - 0.12092)\n",
      "1 ROUGE-2 Average_P: 0.17091 (95%-conf.int. 0.16839 - 0.17374)\n",
      "1 ROUGE-2 Average_F: 0.13708 (95%-conf.int. 0.13518 - 0.13921)\n",
      "---------------------------------------------\n",
      "1 ROUGE-L Average_R: 0.32624 (95%-conf.int. 0.32411 - 0.32847)\n",
      "1 ROUGE-L Average_P: 0.45721 (95%-conf.int. 0.45462 - 0.45998)\n",
      "1 ROUGE-L Average_F: 0.37211 (95%-conf.int. 0.37013 - 0.37414)\n",
      "\n",
      "Elapsed time: 621.874 seconds\n"
     ]
    }
   ],
   "source": [
    "!files2rouge baselines/lexrank_truncated.txt test.txt.tgt.tokenized.fixed.cleaned.final.truncated.txt"
   ]
  },
  {
   "cell_type": "markdown",
   "metadata": {},
   "source": [
    "# Multi-News: MMR"
   ]
  },
  {
   "cell_type": "code",
   "execution_count": 1,
   "metadata": {},
   "outputs": [
    {
     "name": "stdout",
     "output_type": "stream",
     "text": [
      "Preparing documents... 0 line(s) ignored\n",
      "Running ROUGE...\n",
      "---------------------------------------------\n",
      "1 ROUGE-1 Average_R: 0.40034 (95%-conf.int. 0.39778 - 0.40276)\n",
      "1 ROUGE-1 Average_P: 0.52191 (95%-conf.int. 0.51919 - 0.52493)\n",
      "1 ROUGE-1 Average_F: 0.44251 (95%-conf.int. 0.44048 - 0.44455)\n",
      "---------------------------------------------\n",
      "1 ROUGE-2 Average_R: 0.13263 (95%-conf.int. 0.13049 - 0.13472)\n",
      "1 ROUGE-2 Average_P: 0.17701 (95%-conf.int. 0.17422 - 0.17996)\n",
      "1 ROUGE-2 Average_F: 0.14807 (95%-conf.int. 0.14581 - 0.15036)\n",
      "---------------------------------------------\n",
      "1 ROUGE-L Average_R: 0.36038 (95%-conf.int. 0.35805 - 0.36276)\n",
      "1 ROUGE-L Average_P: 0.46991 (95%-conf.int. 0.46719 - 0.47281)\n",
      "1 ROUGE-L Average_F: 0.39841 (95%-conf.int. 0.39634 - 0.40057)\n",
      "\n",
      "Elapsed time: 672.260 seconds\n"
     ]
    }
   ],
   "source": [
    "!files2rouge baselines/mmr_truncated.txt test.txt.tgt.tokenized.fixed.cleaned.final.truncated.txt"
   ]
  },
  {
   "cell_type": "markdown",
   "metadata": {},
   "source": [
    "# Multi-News: Lead"
   ]
  },
  {
   "cell_type": "code",
   "execution_count": 2,
   "metadata": {},
   "outputs": [],
   "source": [
    "import re"
   ]
  },
  {
   "cell_type": "code",
   "execution_count": 3,
   "metadata": {},
   "outputs": [],
   "source": [
    "src_file_path = 'test.txt.src.tokenized.fixed.cleaned.final.truncated.txt'\n",
    "tgt_file_path = 'test.txt.tgt.tokenized.fixed.cleaned.final.truncated.txt'"
   ]
  },
  {
   "cell_type": "code",
   "execution_count": 4,
   "metadata": {},
   "outputs": [],
   "source": [
    "lead_1_path = 'first1.test.txt.src.tokenized.fixed.cleaned.final.truncated.txt'\n",
    "lead_3_path = 'first3.test.txt.src.tokenized.fixed.cleaned.final.truncated.txt'"
   ]
  },
  {
   "cell_type": "code",
   "execution_count": 119,
   "metadata": {},
   "outputs": [],
   "source": [
    "def create_lead_n_file(src_file_path, n, save_path):\n",
    "    with open(src_file_path, 'r') as src, open(save_path, 'w') as new:\n",
    "        for line in src:\n",
    "            story_separator_special_tag = 'story_separator_special_tag'\n",
    "            documents = re.split(story_separator_special_tag, line)\n",
    "            truncated_documents = []\n",
    "            for document in documents:\n",
    "                first_n_sentences_in_document = re.split('\\s\\.\\s', document, n)[:n] \n",
    "                new_document_str = ' . '.join(first_n_sentences_in_document) \n",
    "                truncated_documents.append(new_document_str)\n",
    "            truncated_documents = str(\" \" + story_separator_special_tag).join(truncated_documents) \n",
    "            if truncated_documents.endswith('\\n'):\n",
    "                truncated_documents=truncated_documents[:2]\n",
    "            if not truncated_documents:\n",
    "                continue\n",
    "            new.write(truncated_documents + '\\n')\n",
    "    new.close()\n",
    "    src.close()\n",
    "    return"
   ]
  },
  {
   "cell_type": "code",
   "execution_count": 85,
   "metadata": {},
   "outputs": [
    {
     "data": {
      "text/plain": [
       "\"gop eyes gains as voters in 11 states pick governors enlarge this image toggle caption jim cole/ap jim cole/ap voters in 11 states will pick their governors tonight , and republicans appear on track to increase their numbers by at least one , with the potential to extend their hold to more than two-thirds of the nation ' s top state offices . eight of the gubernatorial seats up for grabs are now held by democrats ; three are in republican hands . republicans currently hold 29 governorships , democrats have 20 , and rhode island ' s gov . lincoln chafee is an independent . polls and race analysts suggest that only three of tonight ' s contests are considered competitive , all in states where incumbent democratic governors aren ' t running again : montana , new hampshire and washington . while those state races remain too close to call , republicans are expected to wrest the north carolina governorship from democratic control , and to easily win gop-held seats in utah , north dakota and indiana . democrats are likely to hold on to their seats in west virginia and missouri , and are expected to notch safe wins in races for seats they hold in vermont and delaware . holding sway on health care while the occupant of the governor ' s office is historically far less important than the party that controls the state legislature , top state officials in coming years are expected to story_separator_special_tag gop eyes gains as voters in 11 states pick governors jim cole / ap i jim cole / ap voters in 11 states will pick their governors tonight , and republicans appear on track to increase their numbers by at least one , and with the potential to extend their hold to more than two-thirds of the nation ' s top state offices . eight of the gubernatorial seats up for grabs today are now held by democrats ; three are in republican hands . republicans currently hold 29 governorships , democrats have 20 ; and rhode island ' s gov . lincoln chafee is an independent . polls and race analysts suggest that only three of tonight ' s contests are considered competitive , all in states where incumbent democratic governors aren ' t running again : montana , new hampshire and washington . while those state races remain too close to call , republicans are expected to wrest the north carolina governorship from democratic control , and to easily win gop-held seats in utah , north dakota and indiana . democrats are likely hold on to their seats in west virginia and missouri ; and expected to notch safe wins in races for seats they hold in vermont and delaware . holding sway on health care while the occupant of the governor ' s office is historically far less important than the party that controls the state legislature , top state officials in coming years are expected to\""
      ]
     },
     "execution_count": 85,
     "metadata": {},
     "output_type": "execute_result"
    }
   ],
   "source": [
    "txt=\"gop eyes gains as voters in 11 states pick governors enlarge this image toggle caption jim cole/ap jim cole/ap voters in 11 states will pick their governors tonight , and republicans appear on track to increase their numbers by at least one , with the potential to extend their hold to more than two-thirds of the nation ' s top state offices . eight of the gubernatorial seats up for grabs are now held by democrats ; three are in republican hands . republicans currently hold 29 governorships , democrats have 20 , and rhode island ' s gov . lincoln chafee is an independent . polls and race analysts suggest that only three of tonight ' s contests are considered competitive , all in states where incumbent democratic governors aren ' t running again : montana , new hampshire and washington . while those state races remain too close to call , republicans are expected to wrest the north carolina governorship from democratic control , and to easily win gop-held seats in utah , north dakota and indiana . democrats are likely to hold on to their seats in west virginia and missouri , and are expected to notch safe wins in races for seats they hold in vermont and delaware . holding sway on health care while the occupant of the governor ' s office is historically far less important than the party that controls the state legislature , top state officials in coming years are expected to story_separator_special_tag gop eyes gains as voters in 11 states pick governors jim cole / ap i jim cole / ap voters in 11 states will pick their governors tonight , and republicans appear on track to increase their numbers by at least one , and with the potential to extend their hold to more than two-thirds of the nation ' s top state offices . eight of the gubernatorial seats up for grabs today are now held by democrats ; three are in republican hands . republicans currently hold 29 governorships , democrats have 20 ; and rhode island ' s gov . lincoln chafee is an independent . polls and race analysts suggest that only three of tonight ' s contests are considered competitive , all in states where incumbent democratic governors aren ' t running again : montana , new hampshire and washington . while those state races remain too close to call , republicans are expected to wrest the north carolina governorship from democratic control , and to easily win gop-held seats in utah , north dakota and indiana . democrats are likely hold on to their seats in west virginia and missouri ; and expected to notch safe wins in races for seats they hold in vermont and delaware . holding sway on health care while the occupant of the governor ' s office is historically far less important than the party that controls the state legislature , top state officials in coming years are expected to\"\n",
    "txt"
   ]
  },
  {
   "cell_type": "code",
   "execution_count": 45,
   "metadata": {},
   "outputs": [
    {
     "data": {
      "text/plain": [
       "\"gop eyes gains as voters in 11 states pick governors enlarge this image toggle caption jim cole/ap jim cole/ap voters in 11 states will pick their governors tonight , and republicans appear on track to increase their numbers by at least one , with the potential to extend their hold to more than two-thirds of the nation ' s top state offices\""
      ]
     },
     "execution_count": 45,
     "metadata": {},
     "output_type": "execute_result"
    }
   ],
   "source": [
    "' . '.join(re.split(\"\\s\\.\\s\", txt, 1)[:1])"
   ]
  },
  {
   "cell_type": "code",
   "execution_count": 46,
   "metadata": {},
   "outputs": [
    {
     "data": {
      "text/plain": [
       "\"gop eyes gains as voters in 11 states pick governors enlarge this image toggle caption jim cole/ap jim cole/ap voters in 11 states will pick their governors tonight , and republicans appear on track to increase their numbers by at least one , with the potential to extend their hold to more than two-thirds of the nation ' s top state offices . eight of the gubernatorial seats up for grabs are now held by democrats ; three are in republican hands . republicans currently hold 29 governorships , democrats have 20 , and rhode island ' s gov\""
      ]
     },
     "execution_count": 46,
     "metadata": {},
     "output_type": "execute_result"
    }
   ],
   "source": [
    "' . '.join(re.split(\"\\s\\.\\s\", txt, 3)[:3])"
   ]
  },
  {
   "cell_type": "code",
   "execution_count": 120,
   "metadata": {},
   "outputs": [],
   "source": [
    "create_lead_n_file(src_file_path, 1, lead_1_path)"
   ]
  },
  {
   "cell_type": "code",
   "execution_count": 121,
   "metadata": {},
   "outputs": [],
   "source": [
    "create_lead_n_file(src_file_path, 3, lead_3_path)"
   ]
  },
  {
   "cell_type": "markdown",
   "metadata": {},
   "source": [
    "### Multi-News: Lead-1"
   ]
  },
  {
   "cell_type": "code",
   "execution_count": 122,
   "metadata": {},
   "outputs": [
    {
     "name": "stdout",
     "output_type": "stream",
     "text": [
      "Preparing documents... 0 line(s) ignored\n",
      "Running ROUGE...\n",
      "---------------------------------------------\n",
      "1 ROUGE-1 Average_R: 0.47489 (95%-conf.int. 0.47165 - 0.47805)\n",
      "1 ROUGE-1 Average_P: 0.20918 (95%-conf.int. 0.20660 - 0.21158)\n",
      "1 ROUGE-1 Average_F: 0.27549 (95%-conf.int. 0.27296 - 0.27794)\n",
      "---------------------------------------------\n",
      "1 ROUGE-2 Average_R: 0.13413 (95%-conf.int. 0.13180 - 0.13647)\n",
      "1 ROUGE-2 Average_P: 0.05915 (95%-conf.int. 0.05801 - 0.06031)\n",
      "1 ROUGE-2 Average_F: 0.07801 (95%-conf.int. 0.07661 - 0.07937)\n",
      "---------------------------------------------\n",
      "1 ROUGE-L Average_R: 0.35418 (95%-conf.int. 0.35131 - 0.35711)\n",
      "1 ROUGE-L Average_P: 0.15242 (95%-conf.int. 0.15056 - 0.15421)\n",
      "1 ROUGE-L Average_F: 0.20181 (95%-conf.int. 0.19991 - 0.20358)\n",
      "\n",
      "Elapsed time: 293.666 seconds\n"
     ]
    }
   ],
   "source": [
    "!files2rouge first1.test.txt.src.tokenized.fixed.cleaned.final.truncated.txt test.txt.tgt.tokenized.fixed.cleaned.final.truncated.txt"
   ]
  },
  {
   "cell_type": "markdown",
   "metadata": {},
   "source": [
    "### Multi-News: Lead-3"
   ]
  },
  {
   "cell_type": "code",
   "execution_count": 123,
   "metadata": {},
   "outputs": [
    {
     "name": "stdout",
     "output_type": "stream",
     "text": [
      "Preparing documents... 0 line(s) ignored\n",
      "Running ROUGE...\n",
      "---------------------------------------------\n",
      "1 ROUGE-1 Average_R: 0.39146 (95%-conf.int. 0.38703 - 0.39588)\n",
      "1 ROUGE-1 Average_P: 0.38483 (95%-conf.int. 0.38036 - 0.38932)\n",
      "1 ROUGE-1 Average_F: 0.36494 (95%-conf.int. 0.36153 - 0.36897)\n",
      "---------------------------------------------\n",
      "1 ROUGE-2 Average_R: 0.11727 (95%-conf.int. 0.11522 - 0.11940)\n",
      "1 ROUGE-2 Average_P: 0.12294 (95%-conf.int. 0.12063 - 0.12528)\n",
      "1 ROUGE-2 Average_F: 0.11543 (95%-conf.int. 0.11347 - 0.11748)\n",
      "---------------------------------------------\n",
      "1 ROUGE-L Average_R: 0.34628 (95%-conf.int. 0.34208 - 0.35038)\n",
      "1 ROUGE-L Average_P: 0.33839 (95%-conf.int. 0.33437 - 0.34250)\n",
      "1 ROUGE-L Average_F: 0.32089 (95%-conf.int. 0.31764 - 0.32440)\n",
      "\n",
      "Elapsed time: 432.505 seconds\n"
     ]
    }
   ],
   "source": [
    "!files2rouge first3.test.txt.src.tokenized.fixed.cleaned.final.truncated.txt test.txt.tgt.tokenized.fixed.cleaned.final.truncated.txt"
   ]
  }
 ],
 "metadata": {
  "kernelspec": {
   "display_name": "Python 3",
   "language": "python",
   "name": "python3"
  },
  "language_info": {
   "codemirror_mode": {
    "name": "ipython",
    "version": 3
   },
   "file_extension": ".py",
   "mimetype": "text/x-python",
   "name": "python",
   "nbconvert_exporter": "python",
   "pygments_lexer": "ipython3",
   "version": "3.7.3"
  }
 },
 "nbformat": 4,
 "nbformat_minor": 4
}
